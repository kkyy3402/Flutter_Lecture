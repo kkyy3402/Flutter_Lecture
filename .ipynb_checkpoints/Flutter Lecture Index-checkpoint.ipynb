{
 "cells": [
  {
   "cell_type": "markdown",
   "metadata": {},
   "source": [
    "### 플러터 개발환경 구축"
   ]
  },
  {
   "cell_type": "markdown",
   "metadata": {},
   "source": [
    "Flutter 개발을 위한 IDE가 여러가지가 있습니다.  \n",
    "대표적으로 MS Code, Android Studio가 있는데,  \n",
    "기능은 비슷하지만, 콘솔에서 명령 치는 경우를 많이 줄여주는 것 같아,  \n",
    "Android Studio를 기준으로 설명드리겠습니다."
   ]
  },
  {
   "cell_type": "markdown",
   "metadata": {},
   "source": [
    "### Android Studio 설치"
   ]
  },
  {
   "cell_type": "markdown",
   "metadata": {},
   "source": [
    "생략"
   ]
  },
  {
   "cell_type": "markdown",
   "metadata": {},
   "source": [
    "### Flutter Plugin 및 Flutter SDK 설치"
   ]
  },
  {
   "cell_type": "markdown",
   "metadata": {},
   "source": [
    "Android Studio는 본래 안드로이드 앱 개발을 위해 만들어진 프로그램입니다.  \n",
    "따라서, Flutter를 지원하는 Plugin을 설치해주어야 하며,  \n",
    "플러터 앱의 빌드를 위한 SDK를 설치해야 합니다."
   ]
  },
  {
   "cell_type": "markdown",
   "metadata": {},
   "source": [
    "### Chrome  빌드환경 구성 "
   ]
  },
  {
   "cell_type": "markdown",
   "metadata": {},
   "source": [
    "안드로이드 폰이 있는 경우, 빌드를 하여 바로 결과를 확인 가능하지만,  \n",
    "없는 경우 크롬을 통해 결과를 확인할 수 있습니다.\n",
    "\n",
    "아래 링크를 통해 Chrome 빌드 환경을 구성합니다.\n",
    "\n",
    "https://flutter.dev/docs/get-started/web"
   ]
  },
  {
   "cell_type": "markdown",
   "metadata": {},
   "source": [
    "### Flutter 프로젝트의 파일 구성 설명"
   ]
  },
  {
   "cell_type": "markdown",
   "metadata": {},
   "source": [
    "뭐가 많은데, lib 폴더 내에 파일을 작성하면 됩니다."
   ]
  },
  {
   "cell_type": "markdown",
   "metadata": {},
   "source": [
    "### Dart언어 : 이미 파이썬을 배웠으므로 하면서 배웁시다.\n",
    "### 기본 흐름 설명\n",
    "- Skia엔진이라는 그래픽 라이브러리를 사용하여, iOS, Android에서 사용하는 위젯을 그리는 형태\n",
    "\n",
    "### Flutter 특징\n",
    "\n",
    "- main함수에서 MyApp이라는 StatelessWidget을 실행하는 형태\n",
    "- 기본 관용 코드 설명 runApp -> MaterialApp -> Scaffold\n",
    "- Flutter에서 하나의 컴포넌트는 위젯으로 부른다 \n",
    "- React 코드와 비슷한 형태의 코드 스타일 : Parent -> Child \n",
    "- StatefulWidget vs StatelessWidget : 상태를 가지는지 여부\n",
    "- Hot Reload : 결과 확인을 위해 빌드를 새로 할 필요가 없음\n",
    "\n",
    "\n",
    "### 자주 사용되는 위젯 설명\n",
    "- Container : 뷰를 만들기 위해 많이 사용되는 위젯이며,  \n",
    "  width, height, child, alignment 등의 속성을 가진다. \n",
    "- Text : 텍스트를 만들기 위해 사용하는 위젯\n",
    "- Column : 열을 만들기 위해 사용하는 위젯\n",
    "- Row : 행을 만들기 위해 사용하는 위젯\n",
    "- SingleChildScrollView : 스크롤 뷰를 만들기 위해 사용하는 위젯\n",
    "- ListView 기본 코드\n",
    "\n",
    "ListView.builder(  \n",
    "  itemCount: list.length + 1,  \n",
    "  itemBuilder: (BuildContext context, int index) {  \n",
    "    return Text(\"Helllo\");  \n",
    "  },  \n",
    ")),\n",
    "\n",
    "\n",
    "\n",
    "### 자주 사용되는 단축키\n",
    "- ⌥ + ↑ ↑ : 한 위젯 전체 선택하기\n",
    "- ⌥ + Enter : 위젯 옵션 선택하기"
   ]
  },
  {
   "cell_type": "markdown",
   "metadata": {},
   "source": [
    "### State\n",
    "변수를 화면에 표출하고, 더하고 빼는 카운터 앱을 만들어봅시다."
   ]
  },
  {
   "cell_type": "markdown",
   "metadata": {},
   "source": [
    "### 화면 전환\n",
    "Navigator 클래스틀 통해 화면을 전환할 수 있습니다."
   ]
  },
  {
   "cell_type": "markdown",
   "metadata": {},
   "source": [
    "\n",
    "### 네트워킹\n",
    "### json 파싱\n",
    "### 생명주기\n",
    "### 상태관리\n",
    "### dart 문법"
   ]
  },
  {
   "cell_type": "code",
   "execution_count": null,
   "metadata": {},
   "outputs": [],
   "source": []
  }
 ],
 "metadata": {
  "kernelspec": {
   "display_name": "Python 3",
   "language": "python",
   "name": "python3"
  },
  "language_info": {
   "codemirror_mode": {
    "name": "ipython",
    "version": 3
   },
   "file_extension": ".py",
   "mimetype": "text/x-python",
   "name": "python",
   "nbconvert_exporter": "python",
   "pygments_lexer": "ipython3",
   "version": "3.7.9"
  }
 },
 "nbformat": 4,
 "nbformat_minor": 4
}
